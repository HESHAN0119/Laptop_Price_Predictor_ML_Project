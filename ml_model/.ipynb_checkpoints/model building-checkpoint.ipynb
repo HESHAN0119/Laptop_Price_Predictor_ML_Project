{
 "cells": [],
 "language": "python",
 "metadata": {},
 "outputs": [],
 "nbformat": 4,
 "nbformat_minor": 5
}
